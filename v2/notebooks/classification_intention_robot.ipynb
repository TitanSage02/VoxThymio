{
 "cells": [
  {
   "cell_type": "markdown",
   "id": "5c854fad",
   "metadata": {},
   "source": [
    "# Classification d'intention pour Thymio - Notebook complet"
   ]
  },
  {
   "cell_type": "markdown",
   "id": "a345bfa0",
   "metadata": {},
   "source": [
    "Ce notebook contient toutes les étapes pour entraîner un modèle de classification d'intentions basé sur BERT, depuis l'exploration des données jusqu'à la sauvegarde du modèle."
   ]
  },
  {
   "cell_type": "markdown",
   "id": "9261584d",
   "metadata": {},
   "source": [
    "## Étapes couvertes :\n",
    "1. Chargement et exploration du jeu de données\n",
    "2. Prétraitement du texte\n",
    "3. Tokenization avec `BERT`\n",
    "4. Entraînement du modèle\n",
    "5. Évaluation sur un jeu de test\n",
    "6. Sauvegarde du modèle"
   ]
  },
  {
   "cell_type": "markdown",
   "id": "bea5d25f",
   "metadata": {},
   "source": [
    "## 1. Chargement du jeu de données"
   ]
  },
  {
   "cell_type": "code",
   "execution_count": null,
   "id": "bad032ab",
   "metadata": {},
   "outputs": [],
   "source": [
    "import pandas as pd\n",
    "\n",
    "# Chargement des données\n",
    "df = pd.read_csv('intent_dataset.csv')\n",
    "df.head()"
   ]
  },
  {
   "cell_type": "markdown",
   "id": "686de8e0",
   "metadata": {},
   "source": [
    "## 2. Exploration des données"
   ]
  },
  {
   "cell_type": "code",
   "execution_count": null,
   "id": "34359a59",
   "metadata": {},
   "outputs": [],
   "source": [
    "# Taille du jeu de données\n",
    "print(f\"Nombre d'exemples : {len(df)}\")\n",
    "\n",
    "# Répartition des classes\n",
    "df['label'].value_counts().plot(kind='bar', figsize=(12,4), title=\"Répartition des intentions\")"
   ]
  },
  {
   "cell_type": "markdown",
   "id": "342aff25",
   "metadata": {},
   "source": [
    "## 3. Prétraitement du texte"
   ]
  },
  {
   "cell_type": "code",
   "execution_count": null,
   "id": "d7fcf0b7",
   "metadata": {},
   "outputs": [],
   "source": [
    "import re\n",
    "\n",
    "def clean_text(text):\n",
    "    text = text.lower()\n",
    "    text = re.sub(r\"[^\\w\\sàâçéèêëîïôûùüÿñæœ'-]\", '', text)\n",
    "    return text\n",
    "\n",
    "df['text'] = df['text'].apply(clean_text)"
   ]
  },
  {
   "cell_type": "markdown",
   "id": "c78806a8",
   "metadata": {},
   "source": [
    "## 4. Préparation des données pour BERT"
   ]
  },
  {
   "cell_type": "code",
   "execution_count": null,
   "id": "e017c0de",
   "metadata": {},
   "outputs": [],
   "source": [
    "from sklearn.preprocessing import LabelEncoder\n",
    "from sklearn.model_selection import train_test_split\n",
    "from transformers import BertTokenizer\n",
    "\n",
    "# Encodage des étiquettes\n",
    "le = LabelEncoder()\n",
    "df['label_id'] = le.fit_transform(df['label'])\n",
    "\n",
    "# Train/Test split\n",
    "X_train, X_test, y_train, y_test = train_test_split(df['text'], df['label_id'], test_size=0.2, random_state=42)\n",
    "\n",
    "# Tokenizer\n",
    "tokenizer = BertTokenizer.from_pretrained('bert-base-uncased')\n",
    "\n",
    "train_encodings = tokenizer(list(X_train), truncation=True, padding=True)\n",
    "test_encodings = tokenizer(list(X_test), truncation=True, padding=True)"
   ]
  },
  {
   "cell_type": "markdown",
   "id": "738d8485",
   "metadata": {},
   "source": [
    "## 5. Dataset Torch"
   ]
  },
  {
   "cell_type": "code",
   "execution_count": null,
   "id": "041189f5",
   "metadata": {},
   "outputs": [],
   "source": [
    "import torch\n",
    "\n",
    "class IntentDataset(torch.utils.data.Dataset):\n",
    "    def __init__(self, encodings, labels):\n",
    "        self.encodings = encodings\n",
    "        self.labels = labels\n",
    "    \n",
    "    def __getitem__(self, idx):\n",
    "        return {key: torch.tensor(val[idx]) for key, val in self.encodings.items()} | {'labels': torch.tensor(self.labels[idx])}\n",
    "    \n",
    "    def __len__(self):\n",
    "        return len(self.labels)\n",
    "\n",
    "train_dataset = IntentDataset(train_encodings, list(y_train))\n",
    "test_dataset = IntentDataset(test_encodings, list(y_test))"
   ]
  },
  {
   "cell_type": "markdown",
   "id": "088f8ba7",
   "metadata": {},
   "source": [
    "## 6. Entraînement du modèle BERT"
   ]
  },
  {
   "cell_type": "code",
   "execution_count": null,
   "id": "243114a7",
   "metadata": {},
   "outputs": [],
   "source": [
    "from transformers import BertForSequenceClassification, Trainer, TrainingArguments\n",
    "\n",
    "model = BertForSequenceClassification.from_pretrained('bert-base-uncased', num_labels=len(le.classes_))\n",
    "\n",
    "training_args = TrainingArguments(\n",
    "    output_dir='./results',\n",
    "    num_train_epochs=5,\n",
    "    per_device_train_batch_size=8,\n",
    "    per_device_eval_batch_size=8,\n",
    "    evaluation_strategy=\"epoch\",\n",
    "    save_strategy=\"epoch\",\n",
    "    logging_dir='./logs',\n",
    "    logging_steps=10,\n",
    ")\n",
    "\n",
    "trainer = Trainer(\n",
    "    model=model,\n",
    "    args=training_args,\n",
    "    train_dataset=train_dataset,\n",
    "    eval_dataset=test_dataset,\n",
    ")\n",
    "trainer.train()"
   ]
  },
  {
   "cell_type": "markdown",
   "id": "9249599a",
   "metadata": {},
   "source": [
    "## 7. Évaluation"
   ]
  },
  {
   "cell_type": "code",
   "execution_count": null,
   "id": "5c3cc37a",
   "metadata": {},
   "outputs": [],
   "source": [
    "trainer.evaluate()"
   ]
  },
  {
   "cell_type": "markdown",
   "id": "bb8e513e",
   "metadata": {},
   "source": [
    "## 8. Sauvegarde du modèle et de l’encodeur de labels"
   ]
  },
  {
   "cell_type": "code",
   "execution_count": null,
   "id": "bf1d609d",
   "metadata": {},
   "outputs": [],
   "source": [
    "model.save_pretrained('./intent_model')\n",
    "tokenizer.save_pretrained('./intent_model')\n",
    "\n",
    "import joblib\n",
    "joblib.dump(le, './intent_model/label_encoder.pkl')"
   ]
  },
  {
   "cell_type": "markdown",
   "id": "bb8684ec",
   "metadata": {},
   "source": [
    "## Prêt pour l'inférence !"
   ]
  }
 ],
 "metadata": {
  "language_info": {
   "name": "python"
  }
 },
 "nbformat": 4,
 "nbformat_minor": 5
}
